{
 "cells": [
  {
   "cell_type": "code",
   "execution_count": 1,
   "metadata": {},
   "outputs": [],
   "source": [
    "import math\n",
    "from collections import defaultdict"
   ]
  },
  {
   "cell_type": "code",
   "execution_count": 2,
   "metadata": {},
   "outputs": [],
   "source": [
    "# ItemCF算法（计算书本的相似度）\n",
    "def ItemSimilarity(train):\n",
    "    C = dict() #该书本与其他书本同时被购买的次数\n",
    "    N = dict() #书本被购买的用户数\n",
    "    for u,items in train.items():\n",
    "        for i in items.keys():\n",
    "            if i not in N.keys():\n",
    "                N[i]=0\n",
    "            N[i] += 1\n",
    "            for j in items.keys():\n",
    "                if i == j:\n",
    "                    continue\n",
    "                if i not in C.keys():\n",
    "                    C[i]=dict()\n",
    "                if j not in C[i].keys():\n",
    "                    C[i][j]=0\n",
    "                #当用户购买了i和j时，则加1\n",
    "                C[i][j] += 1\n",
    "    #print(C)            \n",
    "    W = dict() #书本相似分数\n",
    "    for i,related_items in C.items():\n",
    "        if i not in W.keys():\n",
    "            W[i] = dict()\n",
    "        for j,cij in related_items.items():\n",
    "            #一起出现的次数除以分别被购买次数的乘积的二次方\n",
    "            W[i][j] = cij / math.sqrt(N[i] * N[j])\n",
    "    return W"
   ]
  },
  {
   "cell_type": "code",
   "execution_count": 3,
   "metadata": {},
   "outputs": [
    {
     "name": "stdout",
     "output_type": "stream",
     "text": [
      "{'i1': {'i2': 0.5773502691896258, 'i4': 0.6666666666666666, 'i5': 0.4082482904638631}, 'i2': {'i1': 0.5773502691896258, 'i4': 0.5773502691896258, 'i5': 0.35355339059327373, 'i3': 0.35355339059327373}, 'i4': {'i1': 0.6666666666666666, 'i2': 0.5773502691896258}, 'i5': {'i1': 0.4082482904638631, 'i2': 0.35355339059327373, 'i3': 0.5}, 'i3': {'i2': 0.35355339059327373, 'i5': 0.5}}\n"
     ]
    }
   ],
   "source": [
    "#6个用户的数据\n",
    "Train_data = {'A':{'i1':1, 'i2':1, 'i4':1},\n",
    "              'B':{'i1':1, 'i4':1},\n",
    "              'C':{'i1':1, 'i2':1, 'i5':1},\n",
    "              'D':{'i2':1, 'i3':1},\n",
    "              'E':{'i3':1, 'i5':1},\n",
    "              'F':{'i2':1, 'i4':1}   \n",
    "    }\n",
    "print(ItemSimilarity(Train_data))"
   ]
  },
  {
   "cell_type": "code",
   "execution_count": 4,
   "metadata": {},
   "outputs": [],
   "source": [
    "# ItemCF-余弦算法\n",
    "def ItemSimilarity_cos(train):\n",
    "    C = dict() #该书本与其他书本同时被购买的评分数\n",
    "    N = dict() #书本被购买的总评分数\n",
    "    for u,items in train.items():\n",
    "        for i in items.keys():\n",
    "            if i not in N.keys():\n",
    "                N[i]=0\n",
    "            N[i] += items[i]*items[i]\n",
    "            for j in items.keys():\n",
    "                if i == j:\n",
    "                    continue\n",
    "                if i not in C.keys():\n",
    "                    C[i]=dict()\n",
    "                if j not in C[i].keys():\n",
    "                    C[i][j]=0\n",
    "                #当用户购买了i和j时，则加评分乘积\n",
    "                C[i][j] += items[i] * items[j]    \n",
    "    W = dict() #书本相似分数\n",
    "    for i,related_items in C.items():\n",
    "        if i not in W.keys():\n",
    "            W[i] = dict()\n",
    "        for j,cij in related_items.items():\n",
    "            #一起出现的总评分数除以分别被购买的总评分数的乘积的二次方\n",
    "            W[i][j] = cij / math.sqrt(N[i] * N[j])\n",
    "    return W"
   ]
  },
  {
   "cell_type": "code",
   "execution_count": 5,
   "metadata": {},
   "outputs": [
    {
     "name": "stdout",
     "output_type": "stream",
     "text": [
      "{'i1': {'i2': 0.5720775535473553, 'i4': 0.7263001870593784, 'i5': 0.38138503569823695}, 'i2': {'i1': 0.5720775535473553, 'i4': 0.4836508334066745, 'i5': 0.4, 'i3': 0.2385139175999776}, 'i4': {'i1': 0.7263001870593784, 'i2': 0.4836508334066745}, 'i5': {'i1': 0.38138503569823695, 'i2': 0.4, 'i3': 0.2683281572999747}, 'i3': {'i2': 0.2385139175999776, 'i5': 0.2683281572999747}}\n"
     ]
    }
   ],
   "source": [
    "Train_data = {'A':{'i1':3, 'i2':4, 'i4':2},\n",
    "              'B':{'i1':3, 'i4':5},\n",
    "              'C':{'i1':2, 'i2':3, 'i5':4},\n",
    "              'D':{'i2':2, 'i3':4},\n",
    "              'E':{'i3':3, 'i5':2},\n",
    "              'F':{'i2':4, 'i4':3}   \n",
    "    }\n",
    "print(ItemSimilarity_cos(Train_data))"
   ]
  },
  {
   "cell_type": "code",
   "execution_count": 6,
   "metadata": {},
   "outputs": [
    {
     "name": "stdout",
     "output_type": "stream",
     "text": [
      "{'i1': {'i2': 0.5773502691896257, 'i4': 0.6666666666666666, 'i5': 0.408248290463863}, 'i2': {'i1': 0.5773502691896257, 'i4': 0.5773502691896257, 'i5': 0.3535533905932738, 'i3': 0.3535533905932738}, 'i4': {'i1': 0.6666666666666666, 'i2': 0.5773502691896257}, 'i5': {'i1': 0.408248290463863, 'i2': 0.3535533905932738, 'i3': 0.5}, 'i3': {'i2': 0.3535533905932738, 'i5': 0.5}}\n"
     ]
    }
   ],
   "source": [
    "Train_data = {'A':{'i1':3, 'i2':3, 'i4':3},\n",
    "              'B':{'i1':3, 'i4':3},\n",
    "              'C':{'i1':3, 'i2':3, 'i5':3},\n",
    "              'D':{'i2':3, 'i3':3},\n",
    "              'E':{'i3':3, 'i5':3},\n",
    "              'F':{'i2':3, 'i4':3}   \n",
    "    }\n",
    "print(ItemSimilarity_cos(Train_data))"
   ]
  },
  {
   "cell_type": "code",
   "execution_count": 7,
   "metadata": {},
   "outputs": [],
   "source": [
    "# ItemCF算法-热门物品的惩罚\n",
    "def ItemSimilarity_alpha(train,alpha=0.3):\n",
    "    C = dict() #该书本与其他书本同时被购买的次数\n",
    "    N = dict() #书本被购买的用户数\n",
    "    for u,items in train.items():\n",
    "        for i in items.keys():\n",
    "            if i not in N.keys():\n",
    "                N[i]=0\n",
    "            N[i] += 1\n",
    "            for j in items.keys():\n",
    "                if i == j:\n",
    "                    continue\n",
    "                if i not in C.keys():\n",
    "                    C[i]=dict()\n",
    "                if j not in C[i].keys():\n",
    "                    C[i][j]=0\n",
    "                #当用户购买了i和j时，则加1\n",
    "                C[i][j] += 1\n",
    "    #print(C)            \n",
    "    W = dict() #书本相似分数\n",
    "    for i,related_items in C.items():\n",
    "        if i not in W.keys():\n",
    "            W[i] = dict()\n",
    "        for j,cij in related_items.items():\n",
    "            #一起出现的次数除以分别被购买次数的乘积的二次方\n",
    "            W[i][j] = cij /(math.pow(N[i],alpha) * math.pow(N[j],1-alpha))\n",
    "    return W"
   ]
  },
  {
   "cell_type": "code",
   "execution_count": 8,
   "metadata": {},
   "outputs": [
    {
     "name": "stdout",
     "output_type": "stream",
     "text": [
      "{'i1': {'i2': 0.5773502691896258, 'i4': 0.6666666666666666, 'i5': 0.4082482904638631}, 'i2': {'i1': 0.5773502691896258, 'i4': 0.5773502691896258, 'i5': 0.35355339059327373, 'i3': 0.35355339059327373}, 'i4': {'i1': 0.6666666666666666, 'i2': 0.5773502691896258}, 'i5': {'i1': 0.4082482904638631, 'i2': 0.35355339059327373, 'i3': 0.5}, 'i3': {'i2': 0.35355339059327373, 'i5': 0.5}}\n",
      "\n",
      "\n",
      "{'i1': {'i2': 0.5450691787846755, 'i4': 0.6666666666666666, 'i5': 0.44273374664777815}, 'i2': {'i1': 0.6115431697616012, 'i4': 0.6115431697616012, 'i5': 0.40612619817811785, 'i3': 0.40612619817811785}, 'i4': {'i1': 0.6666666666666666, 'i2': 0.5450691787846755}, 'i5': {'i1': 0.3764489784856185, 'i2': 0.3077861033362291, 'i3': 0.5}, 'i3': {'i2': 0.3077861033362291, 'i5': 0.5}}\n"
     ]
    }
   ],
   "source": [
    "Train_data = {'A':{'i1':1, 'i2':1, 'i4':1},\n",
    "              'B':{'i1':1, 'i4':1},\n",
    "              'C':{'i1':1, 'i2':1, 'i5':1},\n",
    "              'D':{'i2':1, 'i3':1},\n",
    "              'E':{'i3':1, 'i5':1},\n",
    "              'F':{'i2':1, 'i4':1}   \n",
    "    }\n",
    "print(ItemSimilarity(Train_data))\n",
    "print('\\n')\n",
    "print(ItemSimilarity_alpha(Train_data))"
   ]
  },
  {
   "cell_type": "code",
   "execution_count": 9,
   "metadata": {},
   "outputs": [],
   "source": [
    "#结合用户喜好对物品排序\n",
    "def Recommend(train, user_id, W, K):\n",
    "    rank = dict()\n",
    "    ru = train[user_id]\n",
    "    for i, score in ru.items():\n",
    "        temp = W[i]\n",
    "        #按照字典中的值排序\n",
    "        #将与第i类商品相似的商品按相似度从高到低排序，取前K\n",
    "        for j ,wij in sorted(temp.items(), key=lambda d : d[1],reverse=True)[0:K]:\n",
    "            #将没加入的商品加入进来\n",
    "            if j not in rank.keys():\n",
    "                rank[j]=0\n",
    "            #该用户已经买了该物品就不再推荐\n",
    "            if j in ru:\n",
    "                continue\n",
    "            #计算第j个物品的推荐分\n",
    "            rank[j] += score*wij\n",
    "    return rank"
   ]
  },
  {
   "cell_type": "code",
   "execution_count": 10,
   "metadata": {},
   "outputs": [
    {
     "name": "stdout",
     "output_type": "stream",
     "text": [
      "{'i1': {'i2': 0.5450691787846755, 'i4': 0.6666666666666666, 'i5': 0.44273374664777815}, 'i2': {'i1': 0.6115431697616012, 'i4': 0.6115431697616012, 'i5': 0.40612619817811785, 'i3': 0.40612619817811785}, 'i4': {'i1': 0.6666666666666666, 'i2': 0.5450691787846755}, 'i5': {'i1': 0.3764489784856185, 'i2': 0.3077861033362291, 'i3': 0.5}, 'i3': {'i2': 0.3077861033362291, 'i5': 0.5}}\n",
      "\n",
      "\n",
      "推荐的商品有: {'i4': 1.278209836428268, 'i3': 0.5, 'i2': 0, 'i5': 0, 'i1': 0}\n"
     ]
    }
   ],
   "source": [
    "#基于物品的协同过滤\n",
    "Train_data = {'A':{'i1':1, 'i2':1, 'i4':1},\n",
    "              'B':{'i1':1, 'i4':1},\n",
    "              'C':{'i1':1, 'i2':1, 'i5':1},\n",
    "              'D':{'i2':1, 'i3':1},\n",
    "              'E':{'i3':1, 'i5':1},\n",
    "              'F':{'i2':1, 'i4':1}   \n",
    "    }\n",
    "W = ItemSimilarity_alpha(Train_data)\n",
    "print(W)\n",
    "print('\\n')\n",
    "NoRank_Recommend = Recommend(Train_data,'C',W,3)\n",
    "Ranked_Recommend = dict(sorted(NoRank_Recommend.items(), key=lambda d :d[1], reverse=True))\n",
    "print(\"推荐的商品有:\",Ranked_Recommend)"
   ]
  },
  {
   "cell_type": "code",
   "execution_count": 11,
   "metadata": {},
   "outputs": [],
   "source": [
    "#建立物品倒排表\n",
    "def defItemIndex(DictUser):\n",
    "    #DictItem = defaultdict(defaultdict)\n",
    "    DictItem = dict()\n",
    "    #遍历每个用户\n",
    "    for user in DictUser:\n",
    "        #print(type(key))\n",
    "        #遍历用户k的购买记录\n",
    "        for item,score in DictUser[user].items():\n",
    "            if item not in DictItem.keys():   \n",
    "                #对每个物品建立一个字典\n",
    "                DictItem[item]=dict() \n",
    "            #录入每个物品用户的打分\n",
    "            DictItem[item][user] = score\n",
    "    return DictItem"
   ]
  },
  {
   "cell_type": "code",
   "execution_count": 12,
   "metadata": {},
   "outputs": [
    {
     "name": "stdout",
     "output_type": "stream",
     "text": [
      "{'i1': {'A': 1, 'B': 1, 'C': 1}, 'i2': {'A': 1, 'C': 1, 'D': 1, 'F': 1}, 'i4': {'A': 1, 'B': 1, 'F': 1}, 'i5': {'C': 1, 'E': 1}, 'i3': {'D': 1, 'E': 1}}\n"
     ]
    }
   ],
   "source": [
    "Train_data = {'A':{'i1':1, 'i2':1, 'i4':1},\n",
    "              'B':{'i1':1, 'i4':1},\n",
    "              'C':{'i1':1, 'i2':1, 'i5':1},\n",
    "              'D':{'i2':1, 'i3':1},\n",
    "              'E':{'i3':1, 'i5':1},\n",
    "              'F':{'i2':1, 'i4':1}   \n",
    "    }\n",
    "\n",
    "DictItem = defItemIndex(Train_data)\n",
    "#将用户购买过的物品索引转化成物品被用户购买过的索引\n",
    "print(DictItem)\n"
   ]
  },
  {
   "cell_type": "code",
   "execution_count": 13,
   "metadata": {},
   "outputs": [],
   "source": [
    "#计算用户相似度\n",
    "import math\n",
    "def defUserSimilarity(DictItem):\n",
    "    N = dict() #用户购买的数量\n",
    "    C = dict() #用来表示用户购买相同书的数量\n",
    "    W = dict() #用来表示用户间的相似度\n",
    "    for key in DictItem:\n",
    "        for i in DictItem[key]:\n",
    "            if i[0] not in N.keys():\n",
    "                N[i[0]] = 0\n",
    "            N[i[0]] += 1\n",
    "            for j in DictItem[key]:\n",
    "                if i[0] == j[0]:\n",
    "                    continue\n",
    "                if i[0] not in C.keys():\n",
    "                    C[i[0]] = dict()\n",
    "                if j[0] not in C[i[0]].keys():\n",
    "                    C[i[0]][j[0]] = 0\n",
    "                #C[i[0]][j[0]]表示用户i和j购买同样书的数量\n",
    "                C[i[0]][j[0]] += 1\n",
    "    #print(\"用户购买相同书的数量\",C)\n",
    "    #print('\\n')\n",
    "    for i,related_user in C.items():\n",
    "        if i not in W.keys():\n",
    "            W[i] = dict()        \n",
    "        for j, cij in related_user.items():\n",
    "            W[i][j] = cij/math.sqrt(N[i]*N[j])\n",
    "    return W"
   ]
  },
  {
   "cell_type": "code",
   "execution_count": 14,
   "metadata": {},
   "outputs": [
    {
     "name": "stdout",
     "output_type": "stream",
     "text": [
      "{'A': {'B': 0.8164965809277261, 'C': 0.6666666666666666, 'D': 0.4082482904638631, 'F': 0.8164965809277261}, 'B': {'A': 0.8164965809277261, 'C': 0.4082482904638631, 'F': 0.5}, 'C': {'A': 0.6666666666666666, 'B': 0.4082482904638631, 'D': 0.4082482904638631, 'F': 0.4082482904638631, 'E': 0.4082482904638631}, 'D': {'A': 0.4082482904638631, 'C': 0.4082482904638631, 'F': 0.5, 'E': 0.5}, 'F': {'A': 0.8164965809277261, 'C': 0.4082482904638631, 'D': 0.5, 'B': 0.5}, 'E': {'C': 0.4082482904638631, 'D': 0.5}}\n"
     ]
    }
   ],
   "source": [
    "print(defUserSimilarity(DictItem))"
   ]
  },
  {
   "cell_type": "code",
   "execution_count": 14,
   "metadata": {},
   "outputs": [],
   "source": [
    "#通过相似用户对用户进行推荐\n",
    "def defRecommend(Train_data, user_id, W, K):\n",
    "    rank = dict()\n",
    "    near_user = W[user_id]\n",
    "    #按照字典中的值排序\n",
    "    #将与第i个人相似的用户从高到低排序，取前K    \n",
    "    for user, wuv in sorted(near_user.items(), key=lambda d : d[1],reverse=True)[0:K]:\n",
    "        #找到相似用户购买的商品\n",
    "        temp = Train_data[user]\n",
    "        for item,score in temp.items():\n",
    "            #将没加入的商品加入进来\n",
    "            if item not in rank.keys():\n",
    "                rank[item]=0\n",
    "            #该用户已经买了该物品就不再推荐\n",
    "            if item in Train_data[user_id]:\n",
    "                continue\n",
    "            #计算物品的推荐分\n",
    "            rank[item] += score*wuv\n",
    "    return rank"
   ]
  },
  {
   "cell_type": "code",
   "execution_count": 15,
   "metadata": {},
   "outputs": [
    {
     "name": "stdout",
     "output_type": "stream",
     "text": [
      "推荐的商品有: {'i1': 1.7247448713915894, 'i3': 0.5, 'i5': 0.4082482904638631, 'i2': 0, 'i4': 0}\n"
     ]
    }
   ],
   "source": [
    "#基于用户的协同过滤\n",
    "W = defUserSimilarity(DictItem)\n",
    "NoRank_Recommend = defRecommend(Train_data,'F',W,4)\n",
    "Ranked_Recommend = dict(sorted(NoRank_Recommend.items(), key=lambda d : d[1], reverse=True))\n",
    "print(\"推荐的商品有:\",Ranked_Recommend)"
   ]
  }
 ],
 "metadata": {
  "kernelspec": {
   "display_name": "Python 3",
   "language": "python",
   "name": "python3"
  },
  "language_info": {
   "codemirror_mode": {
    "name": "ipython",
    "version": 3
   },
   "file_extension": ".py",
   "mimetype": "text/x-python",
   "name": "python",
   "nbconvert_exporter": "python",
   "pygments_lexer": "ipython3",
   "version": "3.6.8"
  }
 },
 "nbformat": 4,
 "nbformat_minor": 2
}
