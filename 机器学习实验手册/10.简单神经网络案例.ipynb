{
 "cells": [
  {
   "cell_type": "code",
   "execution_count": 1,
   "metadata": {},
   "outputs": [],
   "source": [
    "#导入tensorflow的包\n",
    "import tensorflow as tf"
   ]
  },
  {
   "cell_type": "code",
   "execution_count": 2,
   "metadata": {},
   "outputs": [
    {
     "name": "stdout",
     "output_type": "stream",
     "text": [
      "Tensor(\"MatMul:0\", shape=(1, 1), dtype=int32)\n"
     ]
    }
   ],
   "source": [
    "#tensorflow中的数据都是以Tensor（张量）的形式存在，使用阶表示张量的维度\n",
    "m1 = tf.constant([[3,3]])\n",
    "m2 = tf.constant([[2],[3]])\n",
    "product = tf.matmul(m1,m2)\n",
    "#对张量的操作即构成图\n",
    "print(product)"
   ]
  },
  {
   "cell_type": "code",
   "execution_count": 3,
   "metadata": {
    "scrolled": true
   },
   "outputs": [
    {
     "name": "stdout",
     "output_type": "stream",
     "text": [
      "[[15]]\n"
     ]
    }
   ],
   "source": [
    "#启用会话\n",
    "with tf.Session() as sess:\n",
    "    result = sess.run(product)\n",
    "    print(result)"
   ]
  },
  {
   "cell_type": "code",
   "execution_count": 5,
   "metadata": {},
   "outputs": [
    {
     "name": "stdout",
     "output_type": "stream",
     "text": [
      "[3 5]\n"
     ]
    }
   ],
   "source": [
    "#Tensorflow中的变量在使用前必须先初始化\n",
    "a = tf.Variable([1,2])\n",
    "b = tf.constant([2,3])\n",
    "c = a + b\n",
    "with tf.Session() as sess:\n",
    "    init_op = tf.global_variables_initializer()\n",
    "    sess.run(init_op)\n",
    "    print(sess.run(c))    "
   ]
  },
  {
   "cell_type": "code",
   "execution_count": 8,
   "metadata": {
    "scrolled": false
   },
   "outputs": [
    {
     "name": "stdout",
     "output_type": "stream",
     "text": [
      "当前为第0步 W的值是: 0.068032466 b的值是: 0.7988296\n",
      "当前为第20步 W的值是: 0.47693396 b的值是: 1.9970301\n",
      "当前为第40步 W的值是: 0.4988935 b的值是: 1.997074\n",
      "当前为第60步 W的值是: 0.5000728 b的值是: 1.997074\n",
      "当前为第80步 W的值是: 0.50013614 b的值是: 1.997074\n",
      "当前为第100步 W的值是: 0.50013953 b的值是: 1.997074\n",
      "当前为第120步 W的值是: 0.50013953 b的值是: 1.997074\n",
      "当前为第140步 W的值是: 0.50013953 b的值是: 1.997074\n",
      "当前为第160步 W的值是: 0.50013953 b的值是: 1.997074\n",
      "当前为第180步 W的值是: 0.50013953 b的值是: 1.997074\n",
      "当前为第200步 W的值是: 0.50013953 b的值是: 1.997074\n",
      "0.0030465496\n"
     ]
    },
    {
     "data": {
      "image/png": "[encoded data removed]",
      "text/plain": [
       "<Figure size 432x288 with 1 Axes>"
      ]
     },
     "metadata": {
      "needs_background": "light"
     },
     "output_type": "display_data"
    }
   ],
   "source": [
    "#神经网络反向传播的机制（单个神经元的例子）\n",
    "#前向传播求损失值，反向传播更新W和b的值\n",
    "import tensorflow as tf\n",
    "import numpy as np\n",
    "import matplotlib.pyplot as plt\n",
    "\n",
    "#定义真实值\n",
    "x = np.linspace(-1,1,100)\n",
    "noise = np.random.normal(0,0.05,x.shape)\n",
    "y = 0.5*x + 2 + noise\n",
    "\n",
    "#定义W(权值)和b（偏置值）,给定初始值为0\n",
    "W = tf.Variable(0.)\n",
    "b = tf.Variable(0.)\n",
    "y_pre = W*x + b\n",
    "#定义均方误差\n",
    "loss = tf.reduce_mean(tf.square(y_pre - y))\n",
    "\n",
    "#定义一个优化器\n",
    "#0.2是学习率\n",
    "optimizer = tf.train.GradientDescentOptimizer(0.2)\n",
    "train = optimizer.minimize(loss)\n",
    "\n",
    "init = tf.initialize_all_variables()\n",
    "with tf.Session() as sess:\n",
    "    #对变量进行初始化\n",
    "    sess.run(init)\n",
    "    #训练201次\n",
    "    for step in range(201):\n",
    "        sess.run(train)\n",
    "        if step%20 == 0:\n",
    "            print(\"当前为第%d步\"%step,\"W的值是:\",sess.run(W),\"b的值是:\",sess.run(b))\n",
    "    plt.scatter(x,y)\n",
    "    plt.plot(x,sess.run(y_pre),'r-',lw=3)\n",
    "    print(sess.run(loss))"
   ]
  },
  {
   "cell_type": "code",
   "execution_count": 9,
   "metadata": {
    "scrolled": false
   },
   "outputs": [
    {
     "name": "stdout",
     "output_type": "stream",
     "text": [
      "当前为第0步 W的值是: -0.00016894825 b的值是: 0.03287954\n",
      "当前为第20步 W的值是: -0.0025735572 b的值是: 0.08219704\n",
      "当前为第40步 W的值是: -0.0037857408 b的值是: 0.08219884\n",
      "当前为第60步 W的值是: -0.004396813 b的值是: 0.08219884\n",
      "当前为第80步 W的值是: -0.0047048596 b的值是: 0.08219884\n",
      "当前为第100步 W的值是: -0.0048601497 b的值是: 0.08219884\n",
      "当前为第120步 W的值是: -0.00493843 b的值是: 0.08219884\n",
      "当前为第140步 W的值是: -0.0049778935 b的值是: 0.08219884\n",
      "当前为第160步 W的值是: -0.004997787 b的值是: 0.08219884\n",
      "当前为第180步 W的值是: -0.0050078165 b的值是: 0.08219884\n",
      "当前为第200步 W的值是: -0.0050128726 b的值是: 0.08219884\n",
      "0.0060764123\n"
     ]
    },
    {
     "data": {
      "image/png": "[encoded data removed]",
      "text/plain": [
       "<Figure size 432x288 with 1 Axes>"
      ]
     },
     "metadata": {
      "needs_background": "light"
     },
     "output_type": "display_data"
    }
   ],
   "source": [
    "#较为复杂的问题\n",
    "import tensorflow as tf\n",
    "import numpy as np\n",
    "import matplotlib.pyplot as plt\n",
    "\n",
    "#-1和+1之间生成的均匀分布的200个数，沿y轴延伸\n",
    "x = np.linspace(-0.5,0.5,200)[:, np.newaxis]\n",
    "noise = np.random.normal(0,0.02,x.shape)\n",
    "# y = x^2\n",
    "y = np.square(x) + noise\n",
    "\n",
    "#定义W和b,给定初始值为0\n",
    "W = tf.Variable(0.)\n",
    "b = tf.Variable(0.)\n",
    "y_pre = W*x + b\n",
    "\n",
    "loss = tf.reduce_mean(tf.square(y_pre - y))\n",
    "optimizer = tf.train.GradientDescentOptimizer(0.2)\n",
    "train = optimizer.minimize(loss)\n",
    "init = tf.initialize_all_variables()\n",
    "\n",
    "with tf.Session() as sess:\n",
    "    sess.run(init)\n",
    "    for step in range(201):\n",
    "        sess.run(train)\n",
    "        if step%20 == 0:\n",
    "            print(\"当前为第%d步\"%step,\"W的值是:\",sess.run(W),\"b的值是:\",sess.run(b))\n",
    "    plt.scatter(x,y)\n",
    "    plt.plot(x,sess.run(y_pre),'r-',lw=2)\n",
    "    print(sess.run(loss))"
   ]
  },
  {
   "cell_type": "code",
   "execution_count": 28,
   "metadata": {},
   "outputs": [
    {
     "name": "stdout",
     "output_type": "stream",
     "text": [
      "W1和b1分别为：\n",
      " [[-1.3995836  -1.2607524   0.5397258   0.66184235  0.47776118  0.9569222\n",
      "   0.13370284  0.09662866 -0.7106885   1.458329  ]] [[-8.8244224e-01 -1.5834481e-01 -3.8243750e-01 -3.0264685e-01\n",
      "  -2.4397773e-04 -5.7486778e-01 -1.3428798e-01 -2.0671597e-01\n",
      "  -7.9907961e-02 -1.3422570e-01]]\n",
      "W2和b2分别为：\n",
      " [[ 1.570617  ]\n",
      " [ 0.6750396 ]\n",
      " [ 0.7432907 ]\n",
      " [ 0.6281161 ]\n",
      " [-0.2462852 ]\n",
      " [ 1.2504019 ]\n",
      " [-0.59753543]\n",
      " [-2.0658445 ]\n",
      " [-0.2251695 ]\n",
      " [ 0.49478647]] [[-0.00644954]]\n",
      "最终的loss为: 0.0032294209\n"
     ]
    },
    {
     "data": {
      "image/png": "[encoded data removed]",
      "text/plain": [
       "<Figure size 432x288 with 1 Axes>"
      ]
     },
     "metadata": {
      "needs_background": "light"
     },
     "output_type": "display_data"
    }
   ],
   "source": [
    "#神经网络典型的三层结构\n",
    "import tensorflow as tf\n",
    "import numpy as np\n",
    "import matplotlib.pyplot as plt\n",
    "\n",
    "#-1和+1之间生成的均匀分布的200个数，沿y轴延伸\n",
    "#定义真实数据\n",
    "x_data = np.linspace(-1,1,200)[:, np.newaxis]\n",
    "noise = np.random.normal(0,0.05,x_data.shape)\n",
    "y_data = np.square(x_data) + noise\n",
    "\n",
    "#定义输入层\n",
    "#定义占位符行数不限，列数为1(以后可以直接赋值)\n",
    "x = tf.placeholder(tf.float32,[None,1])\n",
    "y = tf.placeholder(tf.float32,[None,1])\n",
    "\n",
    "#定义中间层（也叫隐藏层）\n",
    "#权值和偏置值均为1行10列\n",
    "Weight_L1 = tf.Variable(tf.random_normal([1,10]))\n",
    "biases_L1 = tf.Variable(tf.zeros([1,10]))\n",
    "Wx_plus_b_L1 = tf.matmul(x,Weight_L1) + biases_L1\n",
    "#L1为中间层的输出\n",
    "L1 = tf.nn.relu(Wx_plus_b_L1)\n",
    "\n",
    "#定义输出层\n",
    "#中间层的输出作为输出层的输入\n",
    "Weight_L2 = tf.Variable(tf.random_normal([10,1]))\n",
    "biases_L2 = tf.Variable(tf.zeros([1,1]))\n",
    "Wx_plus_b_L2 = tf.matmul(L1,Weight_L2) + biases_L2\n",
    "#采用双曲正切函数\n",
    "prediction = tf.nn.tanh(Wx_plus_b_L2)\n",
    "\n",
    "#定义损失函数\n",
    "loss = tf.reduce_mean(tf.square(prediction - y))\n",
    "#定义优化器\n",
    "optimizer = tf.train.GradientDescentOptimizer(0.2)\n",
    "train_step = optimizer.minimize(loss)\n",
    "\n",
    "init = tf.initialize_all_variables()\n",
    "with tf.Session() as sess:\n",
    "    sess.run(init)\n",
    "    for step in range(3000):\n",
    "        sess.run(train_step, feed_dict={x:x_data,y:y_data})\n",
    "    #模型训练完成后进行预测\n",
    "    prediction_value = sess.run(prediction, feed_dict={x:x_data})\n",
    "    print(\"W1和b1分别为：\\n\",sess.run(Weight_L1),sess.run(biases_L1))\n",
    "    print(\"W2和b2分别为：\\n\",sess.run(Weight_L2),sess.run(biases_L2))\n",
    "    #打印最终的loss\n",
    "    print(\"最终的loss为:\",sess.run(loss,feed_dict={x:x_data, y: y_data}))\n",
    "    plt.figure()\n",
    "    #绘制真实值得散点图\n",
    "    plt.scatter(x_data,y_data)\n",
    "    plt.plot(x_data,prediction_value,'r-',lw=5)\n",
    "    plt.show()"
   ]
  }
 ],
 "metadata": {
  "kernelspec": {
   "display_name": "Python 3",
   "language": "python",
   "name": "python3"
  },
  "language_info": {
   "codemirror_mode": {
    "name": "ipython",
    "version": 3
   },
   "file_extension": ".py",
   "mimetype": "text/x-python",
   "name": "python",
   "nbconvert_exporter": "python",
   "pygments_lexer": "ipython3",
   "version": "3.6.8"
  }
 },
 "nbformat": 4,
 "nbformat_minor": 2
}
