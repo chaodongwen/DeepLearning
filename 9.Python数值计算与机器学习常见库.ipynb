{
 "cells": [
  {
   "cell_type": "code",
   "execution_count": 4,
   "metadata": {},
   "outputs": [
    {
     "ename": "SyntaxError",
     "evalue": "invalid syntax (<ipython-input-4-4ad7e74b55f6>, line 10)",
     "output_type": "error",
     "traceback": [
      "\u001b[1;36m  File \u001b[1;32m\"<ipython-input-4-4ad7e74b55f6>\"\u001b[1;36m, line \u001b[1;32m10\u001b[0m\n\u001b[1;33m    timeit list_times(larr,1.1)\u001b[0m\n\u001b[1;37m                    ^\u001b[0m\n\u001b[1;31mSyntaxError\u001b[0m\u001b[1;31m:\u001b[0m invalid syntax\n"
     ]
    }
   ],
   "source": [
    "#9.1 Numpy\n",
    "import numpy as np \n",
    "arr = np.arange(1e7)\n",
    "larr = arr.tolist()\n",
    "def list_times(alist, scalar):\n",
    "    for i,val in enumerate(alist):\n",
    "        alist[i]=val*scalar\n",
    "    return alist\n",
    "#timeit 计算运行时间 timeitarr*1.1\n",
    "list_times(larr,1.1)"
   ]
  }
 ],
 "metadata": {
  "kernelspec": {
   "display_name": "Python 3",
   "language": "python",
   "name": "python3"
  },
  "language_info": {
   "codemirror_mode": {
    "name": "ipython",
    "version": 3
   },
   "file_extension": ".py",
   "mimetype": "text/x-python",
   "name": "python",
   "nbconvert_exporter": "python",
   "pygments_lexer": "ipython3",
   "version": "3.6.8"
  }
 },
 "nbformat": 4,
 "nbformat_minor": 2
}
