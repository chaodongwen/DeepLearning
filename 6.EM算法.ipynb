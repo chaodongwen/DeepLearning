{
 "cells": [
  {
   "cell_type": "code",
   "execution_count": 35,
   "metadata": {},
   "outputs": [],
   "source": [
    "import numpy as np\n",
    "from numpy import *\n",
    "import random\n",
    "import copy\n",
    "from sklearn import metrics\n",
    "import pandas as pd\n",
    "import scipy"
   ]
  },
  {
   "cell_type": "code",
   "execution_count": 36,
   "metadata": {},
   "outputs": [
    {
     "name": "stdout",
     "output_type": "stream",
     "text": [
      "    0.064  -1.758  1.686\n",
      "0  -0.191   0.463 -0.924\n",
      "1  -0.529   0.782  0.585\n",
      "2  -0.754   0.290  1.194\n",
      "3   1.959  -0.512  2.737\n",
      "4  -0.257  -1.371 -1.267\n",
      "5   0.592   1.886  1.220\n",
      "6  -0.001  -1.614 -1.228\n",
      "7   0.002   0.884  0.582\n",
      "8   0.440   0.565 -0.693\n",
      "9   1.259   0.858 -2.105\n",
      "10  0.207   0.220 -1.006\n",
      "11  0.326   0.069 -1.499\n",
      "12  1.732   2.232  0.147\n",
      "13  0.035   0.798  0.896\n",
      "14  0.617   0.303  1.448\n",
      "15  0.527  -0.553  0.298\n",
      "16  0.863   2.137  1.092\n",
      "17  0.198  -1.794 -1.387\n",
      "18  0.176   2.137  0.006\n",
      "19  3.215   1.128  3.828\n",
      "20 -1.404   0.658 -2.556\n",
      "21  1.574  -0.516  1.227\n",
      "22 -0.418  -0.021  0.228\n"
     ]
    }
   ],
   "source": [
    "#EM算法称最大期望算法，是一类通过迭代进行极大似然估计的优化算法\n",
    "data = pd.read_csv('gaussmix.csv')\n",
    "print(data)"
   ]
  },
  {
   "cell_type": "code",
   "execution_count": 38,
   "metadata": {},
   "outputs": [],
   "source": [
    "num_iter = 1000\n",
    "n,d = data.shape\n",
    "mu1 = np.random.standard_normal(d)\n",
    "mu2 = np.random.standard_normal(d)\n",
    "sigma1 = np.identity(d)\n",
    "sigma2 = np.identity(d)\n",
    "pi = 0.5"
   ]
  },
  {
   "cell_type": "code",
   "execution_count": 39,
   "metadata": {},
   "outputs": [],
   "source": [
    "for i in range(num_iter):\n",
    "    #E-step\n",
    "    norm1 = scipy.stats.multivariate_normal(mu1, sigma1)\n",
    "    norm2 = scipy.stats.multivariate_normal(mu2, sigma2)\n",
    "    tau1 = pi*norm1.pdf(data)\n",
    "    tau2 = (1-pi)*norm2.pdf(data)\n",
    "    gamma = tau1/(tau1+tau2)\n",
    "    #M-step\n",
    "    mu1 = np.dot(gamma, data)/sum(gamma)\n",
    "    mu2 = np.dot((1-gamma), data)/sum((1-gamma))\n",
    "    sigma1 = np.dot(gamma*(data - mu1).T, data - mu1)/np.sum(gamma)\n",
    "    sigma2 = np.dot((1-gamma)*(data - mu1).T, data-mu1)/np.sum((1-gamma))\n",
    "    pi = sum(gamma)/n"
   ]
  },
  {
   "cell_type": "code",
   "execution_count": 46,
   "metadata": {},
   "outputs": [
    {
     "ename": "NameError",
     "evalue": "name 'GMM' is not defined",
     "output_type": "error",
     "traceback": [
      "\u001b[1;31m---------------------------------------------------------------------------\u001b[0m",
      "\u001b[1;31mNameError\u001b[0m                                 Traceback (most recent call last)",
      "\u001b[1;32m<ipython-input-46-baa0007fe632>\u001b[0m in \u001b[0;36m<module>\u001b[1;34m\u001b[0m\n\u001b[1;32m----> 1\u001b[1;33m \u001b[0mg\u001b[0m \u001b[1;33m=\u001b[0m \u001b[0mGMM\u001b[0m\u001b[1;33m(\u001b[0m\u001b[0mn_components\u001b[0m\u001b[1;33m=\u001b[0m\u001b[1;36m2\u001b[0m\u001b[1;33m,\u001b[0m \u001b[0mcovariance_type\u001b[0m\u001b[1;33m=\u001b[0m\u001b[1;34m'full'\u001b[0m\u001b[1;33m,\u001b[0m \u001b[0mn_iter\u001b[0m\u001b[1;33m=\u001b[0m\u001b[1;36m1000\u001b[0m\u001b[1;33m)\u001b[0m\u001b[1;33m\u001b[0m\u001b[1;33m\u001b[0m\u001b[0m\n\u001b[0m\u001b[0;32m      2\u001b[0m \u001b[0mg\u001b[0m\u001b[1;33m.\u001b[0m\u001b[0mfit\u001b[0m\u001b[1;33m(\u001b[0m\u001b[0mdata\u001b[0m\u001b[1;33m)\u001b[0m\u001b[1;33m\u001b[0m\u001b[1;33m\u001b[0m\u001b[0m\n\u001b[0;32m      3\u001b[0m \u001b[0mprint\u001b[0m\u001b[1;33m(\u001b[0m\u001b[0mg\u001b[0m\u001b[1;33m.\u001b[0m\u001b[0mweights_\u001b[0m\u001b[1;33m)\u001b[0m\u001b[1;33m\u001b[0m\u001b[1;33m\u001b[0m\u001b[0m\n\u001b[0;32m      4\u001b[0m \u001b[0mprint\u001b[0m\u001b[1;33m(\u001b[0m\u001b[0mg\u001b[0m\u001b[1;33m.\u001b[0m\u001b[0mmeans_\u001b[0m\u001b[1;33m,\u001b[0m \u001b[1;34m'\\n'\u001b[0m\u001b[1;33m)\u001b[0m\u001b[1;33m\u001b[0m\u001b[1;33m\u001b[0m\u001b[0m\n\u001b[0;32m      5\u001b[0m \u001b[0mprint\u001b[0m\u001b[1;33m(\u001b[0m\u001b[0mg\u001b[0m\u001b[1;33m.\u001b[0m\u001b[0mcovars_\u001b[0m\u001b[1;33m,\u001b[0m \u001b[1;34m'\\n'\u001b[0m\u001b[1;33m)\u001b[0m\u001b[1;33m\u001b[0m\u001b[1;33m\u001b[0m\u001b[0m\n",
      "\u001b[1;31mNameError\u001b[0m: name 'GMM' is not defined"
     ]
    }
   ],
   "source": [
    "g = GMM(n_components=2, covariance_type='full', n_iter=1000)\n",
    "g.fit(data)\n",
    "print(g.weights_)\n",
    "print(g.means_, '\\n')\n",
    "print(g.covars_, '\\n')"
   ]
  },
  {
   "cell_type": "code",
   "execution_count": 40,
   "metadata": {},
   "outputs": [],
   "source": [
    "def generate_data():\n",
    "    Miu1 = 2\n",
    "    Miu2 = 4\n",
    "    sigma1 = 1\n",
    "    sigma2 = 2\n",
    "    alpha1 = 0.4\n",
    "    alpha2 = 0.6\n",
    "    N = 5000\n",
    "    N1 = int(alpha1 * N)\n",
    "    X = mat(zeros((N,1)))\n",
    "    for i in range(N1):\n",
    "        temp = random.uniform(0,0.5)\n",
    "        X[i] = temp * sigma1 + Miu1\n",
    "    for i in range(N-N1):\n",
    "        temp = random.uniform(0,0.5)\n",
    "        X[i+N1] = temp * sigma2 + Miu2\n",
    "    return X"
   ]
  },
  {
   "cell_type": "code",
   "execution_count": 44,
   "metadata": {},
   "outputs": [],
   "source": [
    "def my_GMM(X):\n",
    "    k = 2\n",
    "    N = len(X)\n",
    "    Miu = np.random.rand(k,1)\n",
    "    Posterior = mat(zeros((N,k)))\n",
    "    sigma = np.random.rand(k,1)\n",
    "    sigma[0]=1\n",
    "    #sigma[1]=2\n",
    "    alpha = np.random.rand(k,1)\n",
    "    alpha[0] = 0.1\n",
    "    alpha[1] = 0.9\n",
    "    dominator = 0\n",
    "    numerator = 0\n",
    "    #先求后验概率\n",
    "    print(sigma)\n",
    "    for it in range(1000):\n",
    "        for i in range(N):\n",
    "            dominator = 0\n",
    "            for j in range(k):\n",
    "                dominator = dominator + np.exp(-1.0/(2.0*sigma[j]) * (X[i] - Miu[j])**2)\n",
    "                #print -1.0/(2.0*sigma[j]),(X[i] - Miu[j])**2,-1.0/(2.0*sigma[j]) * (X[i] - Miu[j])**2,np.exp(-1.0/(2.0*sigma[j]) * (X[i] - Miu[j])**2)\n",
    "                #return\n",
    "            for j in range(k):\n",
    "                numerator = np.exp(-1.0/(2.0*sigma[j]) * (X[i] - Miu[j])**2)\n",
    "                Posterior[i,j] = numerator/dominator\n",
    "        oldMiu = copy.deepcopy(Miu)\n",
    "        oldalpha = copy.deepcopy(alpha)\n",
    "        oldsigma = copy.deepcopy(sigma)\n",
    "        #最大化\n",
    "        for j in range(k):\n",
    "            numerator = 0\n",
    "            dominator = 0\n",
    "            for i in range(N):\n",
    "                numerator = numerator + Posterior[i,j] * X[i]\n",
    "                dominator = dominator + Posterior[i,j]\n",
    "            Miu[j] = numerator/dominator\n",
    "            alpha[j] = dominator/N\n",
    "            tmp = 0\n",
    "            for i in range(N):\n",
    "                tmp = tmp + Posterior[i,j]*(X[i] - Miu[j])**2\n",
    "            #print tmp,Posterior[i,j],(X[i] - Miu[j])**2 \n",
    "            sigma[j] = tmp/dominator\n",
    "            print(tmp, dominator, sigma[j])\n",
    "        if ((abs(Miu - oldMiu)).sum() < EPS) and ((abs(alpha - oldalpha)).sum() < EPS) and ((abs(sigma - oldsigma)).sum() < EPS):\n",
    "            print(Miu,sigma,alpha,it)\n",
    "            break"
   ]
  },
  {
   "cell_type": "code",
   "execution_count": 45,
   "metadata": {},
   "outputs": [
    {
     "name": "stdout",
     "output_type": "stream",
     "text": [
      "[[1.        ]\n",
      " [0.54561952]]\n",
      "[[4778.06631718]] 4256.073114372171 [1.12264667]\n",
      "[[131.78346222]] 743.9268856278263 [0.17714572]\n"
     ]
    },
    {
     "ename": "NameError",
     "evalue": "name 'EPS' is not defined",
     "output_type": "error",
     "traceback": [
      "\u001b[1;31m---------------------------------------------------------------------------\u001b[0m",
      "\u001b[1;31mNameError\u001b[0m                                 Traceback (most recent call last)",
      "\u001b[1;32m<ipython-input-45-37aa7aae55cf>\u001b[0m in \u001b[0;36m<module>\u001b[1;34m\u001b[0m\n\u001b[0;32m      1\u001b[0m \u001b[0mX\u001b[0m \u001b[1;33m=\u001b[0m \u001b[0mgenerate_data\u001b[0m\u001b[1;33m(\u001b[0m\u001b[1;33m)\u001b[0m\u001b[1;33m\u001b[0m\u001b[1;33m\u001b[0m\u001b[0m\n\u001b[1;32m----> 2\u001b[1;33m \u001b[0mmy_GMM\u001b[0m\u001b[1;33m(\u001b[0m\u001b[0mX\u001b[0m\u001b[1;33m)\u001b[0m\u001b[1;33m\u001b[0m\u001b[1;33m\u001b[0m\u001b[0m\n\u001b[0m",
      "\u001b[1;32m<ipython-input-44-d606dcc7e63b>\u001b[0m in \u001b[0;36mmy_GMM\u001b[1;34m(X)\u001b[0m\n\u001b[0;32m     42\u001b[0m             \u001b[0msigma\u001b[0m\u001b[1;33m[\u001b[0m\u001b[0mj\u001b[0m\u001b[1;33m]\u001b[0m \u001b[1;33m=\u001b[0m \u001b[0mtmp\u001b[0m\u001b[1;33m/\u001b[0m\u001b[0mdominator\u001b[0m\u001b[1;33m\u001b[0m\u001b[1;33m\u001b[0m\u001b[0m\n\u001b[0;32m     43\u001b[0m             \u001b[0mprint\u001b[0m\u001b[1;33m(\u001b[0m\u001b[0mtmp\u001b[0m\u001b[1;33m,\u001b[0m \u001b[0mdominator\u001b[0m\u001b[1;33m,\u001b[0m \u001b[0msigma\u001b[0m\u001b[1;33m[\u001b[0m\u001b[0mj\u001b[0m\u001b[1;33m]\u001b[0m\u001b[1;33m)\u001b[0m\u001b[1;33m\u001b[0m\u001b[1;33m\u001b[0m\u001b[0m\n\u001b[1;32m---> 44\u001b[1;33m         \u001b[1;32mif\u001b[0m \u001b[1;33m(\u001b[0m\u001b[1;33m(\u001b[0m\u001b[0mabs\u001b[0m\u001b[1;33m(\u001b[0m\u001b[0mMiu\u001b[0m \u001b[1;33m-\u001b[0m \u001b[0moldMiu\u001b[0m\u001b[1;33m)\u001b[0m\u001b[1;33m)\u001b[0m\u001b[1;33m.\u001b[0m\u001b[0msum\u001b[0m\u001b[1;33m(\u001b[0m\u001b[1;33m)\u001b[0m \u001b[1;33m<\u001b[0m \u001b[0mEPS\u001b[0m\u001b[1;33m)\u001b[0m \u001b[1;32mand\u001b[0m \u001b[1;33m(\u001b[0m\u001b[1;33m(\u001b[0m\u001b[0mabs\u001b[0m\u001b[1;33m(\u001b[0m\u001b[0malpha\u001b[0m \u001b[1;33m-\u001b[0m \u001b[0moldalpha\u001b[0m\u001b[1;33m)\u001b[0m\u001b[1;33m)\u001b[0m\u001b[1;33m.\u001b[0m\u001b[0msum\u001b[0m\u001b[1;33m(\u001b[0m\u001b[1;33m)\u001b[0m \u001b[1;33m<\u001b[0m \u001b[0mEPS\u001b[0m\u001b[1;33m)\u001b[0m \u001b[1;32mand\u001b[0m \u001b[1;33m(\u001b[0m\u001b[1;33m(\u001b[0m\u001b[0mabs\u001b[0m\u001b[1;33m(\u001b[0m\u001b[0msigma\u001b[0m \u001b[1;33m-\u001b[0m \u001b[0moldsigma\u001b[0m\u001b[1;33m)\u001b[0m\u001b[1;33m)\u001b[0m\u001b[1;33m.\u001b[0m\u001b[0msum\u001b[0m\u001b[1;33m(\u001b[0m\u001b[1;33m)\u001b[0m \u001b[1;33m<\u001b[0m \u001b[0mEPS\u001b[0m\u001b[1;33m)\u001b[0m\u001b[1;33m:\u001b[0m\u001b[1;33m\u001b[0m\u001b[1;33m\u001b[0m\u001b[0m\n\u001b[0m\u001b[0;32m     45\u001b[0m             \u001b[0mprint\u001b[0m\u001b[1;33m(\u001b[0m\u001b[0mMiu\u001b[0m\u001b[1;33m,\u001b[0m\u001b[0msigma\u001b[0m\u001b[1;33m,\u001b[0m\u001b[0malpha\u001b[0m\u001b[1;33m,\u001b[0m\u001b[0mit\u001b[0m\u001b[1;33m)\u001b[0m\u001b[1;33m\u001b[0m\u001b[1;33m\u001b[0m\u001b[0m\n\u001b[0;32m     46\u001b[0m             \u001b[1;32mbreak\u001b[0m\u001b[1;33m\u001b[0m\u001b[1;33m\u001b[0m\u001b[0m\n",
      "\u001b[1;31mNameError\u001b[0m: name 'EPS' is not defined"
     ]
    }
   ],
   "source": [
    "X = generate_data()\n",
    "my_GMM(X)"
   ]
  }
 ],
 "metadata": {
  "kernelspec": {
   "display_name": "Python 3",
   "language": "python",
   "name": "python3"
  },
  "language_info": {
   "codemirror_mode": {
    "name": "ipython",
    "version": 3
   },
   "file_extension": ".py",
   "mimetype": "text/x-python",
   "name": "python",
   "nbconvert_exporter": "python",
   "pygments_lexer": "ipython3",
   "version": "3.6.8"
  }
 },
 "nbformat": 4,
 "nbformat_minor": 2
}
