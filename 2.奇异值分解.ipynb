{
 "cells": [
  {
   "cell_type": "code",
   "execution_count": 1,
   "metadata": {},
   "outputs": [],
   "source": [
    "import numpy as np"
   ]
  },
  {
   "cell_type": "code",
   "execution_count": 2,
   "metadata": {},
   "outputs": [],
   "source": [
    "def loadExData():\n",
    "    return [[0,0,1,0,0,2,0,0,0,0,5],\n",
    "           [0,0,0,5,0,3,0,0,0,0,3],\n",
    "           [0,0,0,0,4,1,0,1,0,4,0],\n",
    "           [3,3,4,0,0,0,0,2,2,0,0],\n",
    "           [5,4,2,0,0,0,0,5,5,0,0],\n",
    "           [0,0,0,0,5,0,1,0,0,0,0],\n",
    "           [4,1,4,0,0,0,0,4,5,0,1],\n",
    "           [0,0,0,4,0,4,0,0,0,0,4],\n",
    "           [0,0,0,2,0,2,5,0,0,1,2],\n",
    "           [1,0,0,4,0,0,0,1,2,0,0]]"
   ]
  },
  {
   "cell_type": "code",
   "execution_count": 3,
   "metadata": {},
   "outputs": [
    {
     "name": "stdout",
     "output_type": "stream",
     "text": [
      "[14.27  11.198  7.135  5.136  4.686  3.097  2.729  2.556  1.058  0.185]\n",
      "(11, 11)\n"
     ]
    }
   ],
   "source": [
    "myMat = np.mat(loadExData())\n",
    "U,Sigma,VT = np.linalg.svd(myMat)\n",
    "j = 0\n",
    "for i in Sigma:\n",
    "    Sigma[j] = round(i,3)\n",
    "    j += 1\n",
    "print(Sigma)\n",
    "print(VT.shape)"
   ]
  },
  {
   "cell_type": "code",
   "execution_count": 4,
   "metadata": {},
   "outputs": [
    {
     "name": "stdout",
     "output_type": "stream",
     "text": [
      "452.99899600000003\n",
      "379.936329\n",
      "0.84\n",
      "[[ 0.067  0.156  1.344 -0.055 -0.309  2.492  0.817 -0.067 -0.286  0.077\n",
      "   4.417]\n",
      " [ 0.007 -0.208 -0.309  4.832 -0.267  2.919  0.876  0.041  0.329  0.087\n",
      "   2.984]\n",
      " [ 0.118  0.096  0.034  0.035  4.611  0.659  1.196  0.683  0.109  2.396\n",
      "   0.029]\n",
      " [ 2.983  1.953  2.538 -0.544 -0.082 -0.03  -0.045  2.777  3.003 -0.014\n",
      "   0.571]\n",
      " [ 4.812  3.048  3.459  0.395  0.123 -0.327 -0.144  4.568  5.077  0.068\n",
      "  -0.185]\n",
      " [-0.095 -0.04  -0.154 -0.152  3.878  0.358  0.942  0.392 -0.109  1.997\n",
      "  -0.258]\n",
      " [ 4.186  2.7    3.415 -0.019 -0.06   0.229  0.029  3.921  4.289  0.026\n",
      "   0.928]\n",
      " [-0.052 -0.174  0.148  4.098 -0.253  3.383  1.059 -0.056  0.094  0.144\n",
      "   4.1  ]\n",
      " [-0.105 -0.128  0.124  2.243  1.123  2.264  0.99   0.045 -0.064  0.755\n",
      "   2.644]\n",
      " [ 1.123  0.48  -0.204  3.839 -0.129  0.661  0.117  1.153  1.645 -0.034\n",
      "  -0.382]]\n",
      "\n",
      "\n",
      "[[ 0.067  0.156  1.344 -0.055 -0.309  2.492  0.817 -0.067 -0.286  0.077\n",
      "   4.417]\n",
      " [ 0.007 -0.208 -0.309  4.832 -0.267  2.919  0.876  0.041  0.329  0.087\n",
      "   2.984]\n",
      " [ 0.118  0.096  0.034  0.035  4.611  0.659  1.196  0.683  0.109  2.396\n",
      "   0.029]\n",
      " [ 2.983  1.953  2.538 -0.544 -0.082 -0.03  -0.045  2.777  3.003 -0.014\n",
      "   0.571]\n",
      " [ 4.812  3.048  3.459  0.395  0.123 -0.327 -0.144  4.568  5.077  0.068\n",
      "  -0.185]\n",
      " [-0.095 -0.04  -0.154 -0.152  3.878  0.358  0.942  0.392 -0.109  1.997\n",
      "  -0.258]\n",
      " [ 4.186  2.7    3.415 -0.019 -0.06   0.229  0.029  3.921  4.289  0.026\n",
      "   0.928]\n",
      " [-0.052 -0.174  0.148  4.098 -0.253  3.383  1.059 -0.056  0.094  0.144\n",
      "   4.1  ]\n",
      " [-0.105 -0.128  0.124  2.243  1.123  2.264  0.99   0.045 -0.064  0.755\n",
      "   2.644]\n",
      " [ 1.123  0.48  -0.204  3.839 -0.129  0.661  0.117  1.153  1.645 -0.034\n",
      "  -0.382]]\n"
     ]
    }
   ],
   "source": [
    "print(sum(Sigma**2))\n",
    "print(sum(Sigma[0:3]**2))\n",
    "print(round(sum(Sigma[0:3]**2)/sum(Sigma**2),2))\n",
    "NewData = np.round(U[:, :4] * np.mat(np.eye(4)*Sigma[:4])*VT[:4,:],3)\n",
    "MyData = np.round(U*np.mat(np.eye(10) * Sigma)*VT[:10,:],3)\n",
    "#np.eye(4)是4阶的对角矩阵\n",
    "#print(np.mat(np.eye(4)))\n",
    "print(NewData)\n",
    "print('\\n')\n",
    "print(NewData)"
   ]
  },
  {
   "cell_type": "code",
   "execution_count": 5,
   "metadata": {},
   "outputs": [
    {
     "name": "stdout",
     "output_type": "stream",
     "text": [
      "[14.27  11.198  7.135  5.136  4.686  3.097  2.729  2.556  1.058  0.185]\n",
      "[14.27, 11.198, 7.135, 5.136, 4.686, 3.097, 2.729, 2.556, 1.058, 0.185, 0]\n",
      "<class 'list'>\n",
      "<class 'numpy.ndarray'>\n"
     ]
    }
   ],
   "source": [
    "print(Sigma)\n",
    "a = []\n",
    "j = 1\n",
    "for i in Sigma:\n",
    "    a.append(i)\n",
    "a.append(0)\n",
    "print(a)\n",
    "print(type(a))\n",
    "a = np.array(a)\n",
    "print(type(a))"
   ]
  },
  {
   "cell_type": "code",
   "execution_count": 6,
   "metadata": {},
   "outputs": [],
   "source": [
    "#基于SVD的评分估计\n",
    "#dataMat是输入矩阵\n",
    "#simMeas是相似度计算函数\n",
    "#user和item是待打分的用户和物品\n",
    "def svdEst(userData,xformedItems, user, simMeas, item) :\n",
    "    n = xformedItems.shape[0]\n",
    "    simTotal = 0.0; ratSimTotal = 0.0\n",
    "    # 对于给定的用户，for循环所有物品，计算与item的相似度\n",
    "    for j in range(n) :\n",
    "        userRating = userData[:,j]\n",
    "        if userRating == 0 or j == item : continue\n",
    "        similarity = simMeas(xformedItems[item, :].T, xformedItems[j, :].T)\n",
    "        # print便于了解相似度计算的进展情况\n",
    "        print ('the %d and %d similarity is : %f' % (item, j, similarity))\n",
    "        # 对相似度求和\n",
    "        simTotal += similarity\n",
    "        # 对相似度及评分值的乘积求和\n",
    "        ratSimTotal += similarity * userRating\n",
    "    if simTotal == 0 : return 0\n",
    "    else : return ratSimTotal/simTotal"
   ]
  },
  {
   "cell_type": "code",
   "execution_count": 7,
   "metadata": {},
   "outputs": [],
   "source": [
    "def cosSim(a,b):\n",
    "    c = (a.T * b)/(np.linalg.norm(a)*np.linalg.norm(b))\n",
    "    return c\n",
    "\n",
    "def recommend(dataMat, user, N=3, simMeas=cosSim, estMethod=svdEst):\n",
    "    U,Sigma,VT = np.linalg.svd(dataMat)\n",
    "    # 使用奇异值构建一个对角矩阵\n",
    "    Sig4 = np.mat(np.eye(4)*Sigma[:4])\n",
    "    # 利用U矩阵将物品转换到低维空间中\n",
    "    xformedItems = dataMat.T * U[:, :4] * Sig4.I\n",
    "    print('xformedItems=',xformedItems)\n",
    "    print('xformedItems行和列数', xformedItems.shape)\n",
    "    \n",
    "    unratedItems = np.nonzero(dataMat[user, :].A == 0)[1]\n",
    "    print('dataMat[user, :].A=',dataMat[user, :].A)\n",
    "    print('nonzero(dataMat[user, :].A == 0)结果为', np.nonzero(dataMat[user, :].A == 0))\n",
    "    # 如果不存在未评分物品，退出函数，否则在所有未评分物品上进行循环\n",
    "    if len(unratedItems) == 0: return ('you rated everything')\n",
    "    itemScores = []\n",
    "    for item in unratedItems:\n",
    "        print('item=',item)\n",
    "   # 对于每个未评分物品，通过调用standEst()来产生该物品基于相似度的预测评分。\n",
    "        estimatedScore = estMethod(dataMat[user, :],xformedItems, user, simMeas, item)\n",
    "        # 该物品的编号和估计得分值会放在一个元素列表itemScores\n",
    "        itemScores.append((item, estimatedScore))\n",
    "    # 寻找前N个未评级物品\n",
    "    return sorted(itemScores, key=lambda jj: jj[1], reverse=True)[:N]"
   ]
  },
  {
   "cell_type": "code",
   "execution_count": 8,
   "metadata": {
    "scrolled": false
   },
   "outputs": [
    {
     "name": "stdout",
     "output_type": "stream",
     "text": [
      "xformedItems= [[-4.94993155e-01 -8.55622175e-02 -2.48611806e-02  3.33301232e-02]\n",
      " [-3.13458547e-01 -7.52514984e-02 -7.48135856e-03 -3.50541410e-02]\n",
      " [-3.78450772e-01 -4.30110266e-02 -2.73248525e-02 -3.16127753e-01]\n",
      " [-9.66651163e-02  5.96631453e-01 -1.11181970e-01  7.08108827e-01]\n",
      " [-1.48606103e-02  4.20778007e-02  8.58513789e-01  4.28827005e-02]\n",
      " [-5.34500615e-02  4.98695994e-01  4.12721285e-02 -1.51444295e-01]\n",
      " [-1.53015570e-02  1.73637176e-01  1.96700179e-01 -5.96048540e-02]\n",
      " [-4.69111042e-01 -7.14523528e-02  8.17335025e-02  6.74284466e-02]\n",
      " [-5.18848182e-01 -6.64352384e-02 -3.46135811e-02  1.62309665e-01]\n",
      " [-1.56328052e-02  6.08803417e-02  4.39273573e-01  4.45686018e-04]\n",
      " [-1.06449559e-01  5.79097298e-01 -8.90946777e-02 -5.80592096e-01]]\n",
      "xformedItems行和列数 (11, 4)\n",
      "dataMat[user, :].A= [[0 0 0 5 0 3 0 0 0 0 3]]\n",
      "nonzero(dataMat[user, :].A == 0)结果为 (array([0, 0, 0, 0, 0, 0, 0, 0], dtype=int64), array([0, 1, 2, 4, 6, 7, 8, 9], dtype=int64))\n",
      "item= 0\n",
      "the 0 and 3 similarity is : 0.049016\n",
      "the 0 and 5 similarity is : -0.084129\n",
      "the 0 and 10 similarity is : -0.033380\n",
      "item= 1\n",
      "the 1 and 3 similarity is : -0.126885\n",
      "the 1 and 5 similarity is : -0.092534\n",
      "the 1 and 10 similarity is : 0.040066\n",
      "item= 2\n",
      "the 2 and 3 similarity is : -0.451573\n",
      "the 2 and 5 similarity is : 0.174746\n",
      "the 2 and 10 similarity is : 0.488365\n",
      "item= 4\n",
      "the 4 and 3 similarity is : -0.047760\n",
      "the 4 and 5 similarity is : 0.112117\n",
      "the 4 and 10 similarity is : -0.105378\n",
      "item= 6\n",
      "the 6 and 3 similarity is : 0.162263\n",
      "the 6 and 5 similarity is : 0.738223\n",
      "the 6 and 10 similarity is : 0.532098\n",
      "item= 7\n",
      "the 7 and 3 similarity is : 0.090762\n",
      "the 7 and 5 similarity is : -0.068085\n",
      "the 7 and 10 similarity is : -0.093655\n",
      "item= 8\n",
      "the 8 and 3 similarity is : 0.251291\n",
      "the 8 and 5 similarity is : -0.108902\n",
      "the 8 and 10 similarity is : -0.162994\n",
      "item= 9\n",
      "the 9 and 3 similarity is : -0.025692\n",
      "the 9 and 5 similarity is : 0.211222\n",
      "the 9 and 10 similarity is : -0.006709\n"
     ]
    }
   ],
   "source": [
    "myMat= np.mat(loadExData())\n",
    "result=recommend(myMat, 1, estMethod=svdEst)\n",
    "#print(result)"
   ]
  }
 ],
 "metadata": {
  "kernelspec": {
   "display_name": "Python 3",
   "language": "python",
   "name": "python3"
  },
  "language_info": {
   "codemirror_mode": {
    "name": "ipython",
    "version": 3
   },
   "file_extension": ".py",
   "mimetype": "text/x-python",
   "name": "python",
   "nbconvert_exporter": "python",
   "pygments_lexer": "ipython3",
   "version": "3.6.8"
  }
 },
 "nbformat": 4,
 "nbformat_minor": 2
}
