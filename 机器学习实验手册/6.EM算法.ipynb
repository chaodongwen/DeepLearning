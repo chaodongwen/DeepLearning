{
 "cells": [
  {
   "cell_type": "code",
   "execution_count": 13,
   "metadata": {},
   "outputs": [],
   "source": [
    "import numpy as np\n",
    "from numpy import *\n",
    "import random\n",
    "import copy\n",
    "from sklearn import metrics\n",
    "from sklearn import mixture\n",
    "import pandas as pd\n",
    "import scipy"
   ]
  },
  {
   "cell_type": "code",
   "execution_count": 8,
   "metadata": {},
   "outputs": [
    {
     "name": "stdout",
     "output_type": "stream",
     "text": [
      "    0.064  -1.758  1.686\n",
      "0  -0.191   0.463 -0.924\n",
      "1  -0.529   0.782  0.585\n",
      "2  -0.754   0.290  1.194\n",
      "3   1.959  -0.512  2.737\n",
      "4  -0.257  -1.371 -1.267\n",
      "5   0.592   1.886  1.220\n",
      "6  -0.001  -1.614 -1.228\n",
      "7   0.002   0.884  0.582\n",
      "8   0.440   0.565 -0.693\n",
      "9   1.259   0.858 -2.105\n",
      "10  0.207   0.220 -1.006\n",
      "11  0.326   0.069 -1.499\n",
      "12  1.732   2.232  0.147\n",
      "13  0.035   0.798  0.896\n",
      "14  0.617   0.303  1.448\n",
      "15  0.527  -0.553  0.298\n",
      "16  0.863   2.137  1.092\n",
      "17  0.198  -1.794 -1.387\n",
      "18  0.176   2.137  0.006\n",
      "19  3.215   1.128  3.828\n",
      "20 -1.404   0.658 -2.556\n",
      "21  1.574  -0.516  1.227\n",
      "22 -0.418  -0.021  0.228\n"
     ]
    }
   ],
   "source": [
    "#EM算法称最大期望算法，是一类通过迭代进行极大似然估计的优化算法\n",
    "data = pd.read_csv('gaussmix.csv')\n",
    "print(data)"
   ]
  },
  {
   "cell_type": "code",
   "execution_count": 9,
   "metadata": {},
   "outputs": [],
   "source": [
    "num_iter = 1000\n",
    "n,d = data.shape\n",
    "mu1 = np.random.standard_normal(d)\n",
    "mu2 = np.random.standard_normal(d)\n",
    "sigma1 = np.identity(d)\n",
    "sigma2 = np.identity(d)\n",
    "pi = 0.5"
   ]
  },
  {
   "cell_type": "code",
   "execution_count": 10,
   "metadata": {},
   "outputs": [],
   "source": [
    "for i in range(num_iter):\n",
    "    #E-step\n",
    "    norm1 = scipy.stats.multivariate_normal(mu1, sigma1)\n",
    "    norm2 = scipy.stats.multivariate_normal(mu2, sigma2)\n",
    "    tau1 = pi*norm1.pdf(data)\n",
    "    tau2 = (1-pi)*norm2.pdf(data)\n",
    "    gamma = tau1/(tau1+tau2)\n",
    "    #M-step\n",
    "    mu1 = np.dot(gamma, data)/sum(gamma)\n",
    "    mu2 = np.dot((1-gamma), data)/sum((1-gamma))\n",
    "    sigma1 = np.dot(gamma*(data - mu1).T, data - mu1)/np.sum(gamma)\n",
    "    sigma2 = np.dot((1-gamma)*(data - mu1).T, data-mu1)/np.sum((1-gamma))\n",
    "    pi = sum(gamma)/n"
   ]
  },
  {
   "cell_type": "code",
   "execution_count": 18,
   "metadata": {},
   "outputs": [
    {
     "name": "stdout",
     "output_type": "stream",
     "text": [
      "weights--------------------\n",
      "[0.13043076 0.86956924]\n",
      "means--------------------\n",
      "[[ 2.24935407  0.03335026  2.59737527]\n",
      " [ 0.1710065   0.44644555 -0.24844314]] \n",
      "\n"
     ]
    }
   ],
   "source": [
    "g = mixture.GaussianMixture(n_components=2, covariance_type='full', max_iter=1000)\n",
    "g.fit(data)\n",
    "print(\"weights\" + \"--\"*10)\n",
    "print(g.weights_)\n",
    "print(\"means\" + \"--\"*10)\n",
    "print(g.means_, '\\n')\n",
    "# 新版本中没有g.covars_了\n",
    "# print(g.covars_, '\\n')"
   ]
  },
  {
   "cell_type": "code",
   "execution_count": 19,
   "metadata": {},
   "outputs": [],
   "source": [
    "def generate_data():\n",
    "    Miu1 = 2\n",
    "    Miu2 = 4\n",
    "    sigma1 = 1\n",
    "    sigma2 = 2\n",
    "    alpha1 = 0.4\n",
    "    alpha2 = 0.6\n",
    "    N = 5000\n",
    "    N1 = int(alpha1 * N)\n",
    "    X = mat(zeros((N,1)))\n",
    "    for i in range(N1):\n",
    "        temp = random.uniform(0,0.5)\n",
    "        X[i] = temp * sigma1 + Miu1\n",
    "    for i in range(N-N1):\n",
    "        temp = random.uniform(0,0.5)\n",
    "        X[i+N1] = temp * sigma2 + Miu2\n",
    "    return X"
   ]
  },
  {
   "cell_type": "code",
   "execution_count": 24,
   "metadata": {},
   "outputs": [],
   "source": [
    "def my_GMM(X):\n",
    "    k = 2\n",
    "    N = len(X)\n",
    "    Miu = np.random.rand(k,1)\n",
    "    Posterior = mat(zeros((N,k)))\n",
    "    sigma = np.random.rand(k,1)\n",
    "    sigma[0]=1\n",
    "    #sigma[1]=2\n",
    "    alpha = np.random.rand(k,1)\n",
    "    alpha[0] = 0.1\n",
    "    alpha[1] = 0.9\n",
    "    dominator = 0\n",
    "    numerator = 0\n",
    "    # EPS是可调参数\n",
    "    EPS = 0.1\n",
    "    #先求后验概率\n",
    "    print(sigma)\n",
    "    for it in range(1000):\n",
    "        for i in range(N):\n",
    "            dominator = 0\n",
    "            for j in range(k):\n",
    "                dominator = dominator + np.exp(-1.0/(2.0*sigma[j]) * (X[i] - Miu[j])**2)\n",
    "                #print -1.0/(2.0*sigma[j]),(X[i] - Miu[j])**2,-1.0/(2.0*sigma[j]) * (X[i] - Miu[j])**2,np.exp(-1.0/(2.0*sigma[j]) * (X[i] - Miu[j])**2)\n",
    "                #return\n",
    "            for j in range(k):\n",
    "                numerator = np.exp(-1.0/(2.0*sigma[j]) * (X[i] - Miu[j])**2)\n",
    "                Posterior[i,j] = numerator/dominator\n",
    "        oldMiu = copy.deepcopy(Miu)\n",
    "        oldalpha = copy.deepcopy(alpha)\n",
    "        oldsigma = copy.deepcopy(sigma)\n",
    "        #最大化\n",
    "        for j in range(k):\n",
    "            numerator = 0\n",
    "            dominator = 0\n",
    "            for i in range(N):\n",
    "                numerator = numerator + Posterior[i,j] * X[i]\n",
    "                dominator = dominator + Posterior[i,j]\n",
    "            Miu[j] = numerator/dominator\n",
    "            alpha[j] = dominator/N\n",
    "            tmp = 0\n",
    "            for i in range(N):\n",
    "                tmp = tmp + Posterior[i,j]*(X[i] - Miu[j])**2\n",
    "            #print tmp,Posterior[i,j],(X[i] - Miu[j])**2 \n",
    "            sigma[j] = tmp/dominator\n",
    "            print(tmp, dominator, sigma[j])\n",
    "        if ((abs(Miu - oldMiu)).sum() < EPS) and ((abs(alpha - oldalpha)).sum() < EPS) and ((abs(sigma - oldsigma)).sum() < EPS):\n",
    "            print(Miu,sigma,alpha,it)\n",
    "            break"
   ]
  },
  {
   "cell_type": "code",
   "execution_count": 25,
   "metadata": {},
   "outputs": [
    {
     "name": "stdout",
     "output_type": "stream",
     "text": [
      "[[1.        ]\n",
      " [0.94607058]]\n",
      "[[3834.88219987]] 3153.9532979733885 [1.21589695]\n",
      "[[2393.79034161]] 1846.0467020266221 [1.29671169]\n",
      "[[2917.9062387]] 2473.335162154231 [1.17974559]\n",
      "[[3294.53874452]] 2526.6648378457676 [1.3039081]\n",
      "[[2846.47255315]] 2436.8829828786593 [1.16807929]\n",
      "[[3347.1789527]] 2563.1170171213444 [1.30590173]\n",
      "[[3.78116707]\n",
      " [3.43001309]] [[1.16807929]\n",
      " [1.30590173]] [[0.4873766]\n",
      " [0.5126234]] 2\n"
     ]
    }
   ],
   "source": [
    "X = generate_data()\n",
    "my_GMM(X)"
   ]
  }
 ],
 "metadata": {
  "kernelspec": {
   "display_name": "Python 3",
   "language": "python",
   "name": "python3"
  },
  "language_info": {
   "codemirror_mode": {
    "name": "ipython",
    "version": 3
   },
   "file_extension": ".py",
   "mimetype": "text/x-python",
   "name": "python",
   "nbconvert_exporter": "python",
   "pygments_lexer": "ipython3",
   "version": "3.6.8"
  }
 },
 "nbformat": 4,
 "nbformat_minor": 2
}
